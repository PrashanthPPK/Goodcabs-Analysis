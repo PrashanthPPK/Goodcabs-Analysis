{
 "cells": [
  {
   "cell_type": "code",
   "execution_count": 1,
   "metadata": {},
   "outputs": [],
   "source": [
    "import pandas as pd\n",
    "import pyspark\n",
    "from pyspark.sql import SparkSession, functions as F, DataFrame\n",
    "from pyspark.sql.functions import col, window, lag, when\n",
    "from pyspark.sql.functions import *\n",
    "\n",
    "import warnings\n",
    "warnings.filterwarnings(\"ignore\")"
   ]
  },
  {
   "cell_type": "code",
   "execution_count": 2,
   "metadata": {},
   "outputs": [
    {
     "name": "stderr",
     "output_type": "stream",
     "text": [
      "24/11/23 10:36:27 WARN Utils: Your hostname, MacBook-Air.local resolves to a loopback address: 127.0.0.1; using 10.0.0.52 instead (on interface en0)\n",
      "24/11/23 10:36:27 WARN Utils: Set SPARK_LOCAL_IP if you need to bind to another address\n",
      "Setting default log level to \"WARN\".\n",
      "To adjust logging level use sc.setLogLevel(newLevel). For SparkR, use setLogLevel(newLevel).\n",
      "24/11/23 10:36:27 WARN NativeCodeLoader: Unable to load native-hadoop library for your platform... using builtin-java classes where applicable\n"
     ]
    }
   ],
   "source": [
    "spark = SparkSession.builder.appName(\"GoodcabAnalysis\").getOrCreate()"
   ]
  },
  {
   "cell_type": "markdown",
   "metadata": {},
   "source": [
    "### LOADING CSV FILES ###"
   ]
  },
  {
   "cell_type": "code",
   "execution_count": 3,
   "metadata": {},
   "outputs": [
    {
     "name": "stderr",
     "output_type": "stream",
     "text": [
      "24/11/23 10:36:38 WARN GarbageCollectionMetrics: To enable non-built-in garbage collector(s) List(G1 Concurrent GC), users should configure it(them) to spark.eventLog.gcMetrics.youngGenerationGarbageCollectors or spark.eventLog.gcMetrics.oldGenerationGarbageCollectors\n"
     ]
    }
   ],
   "source": [
    "df_city = spark.read.format(\"csv\")\\\n",
    "          .option(\"header\", True)\\\n",
    "          .option(\"inferSchema\", True)\\\n",
    "          .load(\"datasets/csv_files/dim_city.csv\")\n",
    "\n",
    "df_date = spark.read.format(\"csv\")\\\n",
    "          .option(\"header\", True)\\\n",
    "          .option(\"inferSchema\", True)\\\n",
    "          .load(\"datasets/csv_files/dim_date.csv\")\n",
    "\n",
    "df_ratings = spark.read.format(\"csv\")\\\n",
    "          .option(\"header\", True)\\\n",
    "          .option(\"inferSchema\", True)\\\n",
    "          .load(\"datasets/csv_files/city_target_passenger_rating.csv\")\n",
    "\n",
    "df_repeat_trip = spark.read.format(\"csv\")\\\n",
    "          .option(\"header\", True)\\\n",
    "          .option(\"inferSchema\", True)\\\n",
    "          .load(\"datasets/csv_files/dim_repeat_trip_distribution.csv\")\n",
    "\n",
    "df_fact_trips = spark.read.format(\"csv\")\\\n",
    "          .option(\"header\", True)\\\n",
    "          .option(\"inferSchema\", True)\\\n",
    "          .load(\"datasets/csv_files/fact_trips.csv\")\n",
    "\n",
    "df_target_new_passengers = spark.read.format(\"csv\")\\\n",
    "          .option(\"header\", True)\\\n",
    "          .option(\"inferSchema\", True)\\\n",
    "          .load(\"datasets/csv_files/monthly_target_new_passengers.csv\")\n",
    "\n",
    "df_month_target_trips = spark.read.format(\"csv\")\\\n",
    "          .option(\"header\", True)\\\n",
    "          .option(\"inferSchema\", True)\\\n",
    "          .load(\"datasets/csv_files/monthly_target_trips.csv\")\n",
    "\n",
    "df_fact_passenger_summary = spark.read.format(\"csv\")\\\n",
    "          .option(\"header\", True)\\\n",
    "          .option(\"inferSchema\", True)\\\n",
    "          .load(\"datasets/csv_files/fact_passenger_summary.csv\")"
   ]
  },
  {
   "cell_type": "code",
   "execution_count": 4,
   "metadata": {},
   "outputs": [],
   "source": [
    "#Renaming the column\n",
    "df_fact_trips = df_fact_trips.withColumnRenamed(\"distance_travelled(km)\", \"distance_travelled\")\n",
    "df_month_target_trips = df_month_target_trips.withColumnRenamed(\"month\", \"date\")\n",
    "\n",
    "#Creating a new column representing month names from date column\n",
    "df_month_target_trips = df_month_target_trips.withColumn('month_name', date_format('date', 'MMMM'))\n"
   ]
  },
  {
   "cell_type": "markdown",
   "metadata": {},
   "source": [
    "### CREATING TEMP VIEWS FOR SQL QUERIEING ###"
   ]
  },
  {
   "cell_type": "code",
   "execution_count": 5,
   "metadata": {},
   "outputs": [],
   "source": [
    "df_city.createOrReplaceTempView(\"dim_city\")\n",
    "df_date.createOrReplaceTempView(\"dim_date\")\n",
    "df_fact_passenger_summary.createOrReplaceTempView(\"fact_passenger_summary\")\n",
    "df_month_target_trips.createOrReplaceTempView(\"target_trips\")\n",
    "df_ratings.createOrReplaceTempView(\"dim_ratings\")\n",
    "df_repeat_trip.createOrReplaceTempView(\"dim_repeat_trip\")\n",
    "df_target_new_passengers.createOrReplaceTempView(\"target_new_passengers\")\n",
    "df_fact_trips.createOrReplaceTempView(\"fact_trips\")"
   ]
  },
  {
   "cell_type": "markdown",
   "metadata": {},
   "source": [
    "### CHECKING FOR NULL VALUES ###"
   ]
  },
  {
   "cell_type": "code",
   "execution_count": 6,
   "metadata": {},
   "outputs": [
    {
     "name": "stdout",
     "output_type": "stream",
     "text": [
      "\n",
      "--- Checking null/empty for DataFrame: df_city ---\n"
     ]
    },
    {
     "name": "stderr",
     "output_type": "stream",
     "text": [
      "                                                                                \r"
     ]
    },
    {
     "name": "stdout",
     "output_type": "stream",
     "text": [
      "  ✅ Column `city_id` has no null/empty values.\n",
      "  ✅ Column `city_name` has no null/empty values.\n",
      "✔️ All columns in df_city are clean!\n",
      "--- Completed checking df_city in 1.64 seconds ---\n",
      "\n",
      "--- Checking null/empty for DataFrame: df_date ---\n",
      "  ✅ Column `date` has no null/empty values.\n",
      "  ✅ Column `start_of_month` has no null/empty values.\n",
      "  ✅ Column `month_name` has no null/empty values.\n",
      "  ✅ Column `day_type` has no null/empty values.\n",
      "✔️ All columns in df_date are clean!\n",
      "--- Completed checking df_date in 0.46 seconds ---\n",
      "\n",
      "--- Checking null/empty for DataFrame: df_ratings ---\n",
      "  ✅ Column `city_id` has no null/empty values.\n",
      "  ✅ Column `target_avg_passenger_rating` has no null/empty values.\n",
      "✔️ All columns in df_ratings are clean!\n",
      "--- Completed checking df_ratings in 0.29 seconds ---\n",
      "\n",
      "--- Checking null/empty for DataFrame: df_repeat_trip ---\n",
      "  ✅ Column `month` has no null/empty values.\n",
      "  ✅ Column `city_id` has no null/empty values.\n",
      "  ✅ Column `trip_count` has no null/empty values.\n",
      "  ✅ Column `repeat_passenger_count` has no null/empty values.\n",
      "✔️ All columns in df_repeat_trip are clean!\n",
      "--- Completed checking df_repeat_trip in 0.36 seconds ---\n",
      "\n",
      "--- Checking null/empty for DataFrame: df_fact_trips ---\n"
     ]
    },
    {
     "name": "stderr",
     "output_type": "stream",
     "text": [
      "                                                                                \r"
     ]
    },
    {
     "name": "stdout",
     "output_type": "stream",
     "text": [
      "  ✅ Column `trip_id` has no null/empty values.\n",
      "  ✅ Column `date` has no null/empty values.\n",
      "  ✅ Column `city_id` has no null/empty values.\n",
      "  ✅ Column `passenger_type` has no null/empty values.\n",
      "  ✅ Column `distance_travelled` has no null/empty values.\n",
      "  ✅ Column `fare_amount` has no null/empty values.\n",
      "  ✅ Column `passenger_rating` has no null/empty values.\n",
      "  ✅ Column `driver_rating` has no null/empty values.\n",
      "✔️ All columns in df_fact_trips are clean!\n",
      "--- Completed checking df_fact_trips in 1.30 seconds ---\n",
      "\n",
      "--- Checking null/empty for DataFrame: df_target_new_passengers ---\n",
      "  ✅ Column `month` has no null/empty values.\n",
      "  ✅ Column `city_id` has no null/empty values.\n",
      "  ✅ Column `target_new_passengers` has no null/empty values.\n",
      "✔️ All columns in df_target_new_passengers are clean!\n",
      "--- Completed checking df_target_new_passengers in 0.30 seconds ---\n",
      "\n",
      "--- Checking null/empty for DataFrame: df_month_target_trips ---\n",
      "  ✅ Column `date` has no null/empty values.\n",
      "  ✅ Column `city_id` has no null/empty values.\n",
      "  ✅ Column `total_target_trips` has no null/empty values.\n",
      "  ✅ Column `month_name` has no null/empty values.\n",
      "✔️ All columns in df_month_target_trips are clean!\n",
      "--- Completed checking df_month_target_trips in 0.41 seconds ---\n",
      "\n",
      "--- Checking null/empty for DataFrame: df_fact_passenger_summary ---\n",
      "  ✅ Column `month` has no null/empty values.\n",
      "  ✅ Column `city_id` has no null/empty values.\n",
      "  ✅ Column `new_passengers` has no null/empty values.\n",
      "  ✅ Column `repeat_passengers` has no null/empty values.\n",
      "  ✅ Column `total_passengers` has no null/empty values.\n",
      "✔️ All columns in df_fact_passenger_summary are clean!\n",
      "--- Completed checking df_fact_passenger_summary in 0.34 seconds ---\n"
     ]
    }
   ],
   "source": [
    "dataframes = {\n",
    "    \"df_city\": df_city,\n",
    "    \"df_date\": df_date,\n",
    "    \"df_ratings\": df_ratings,\n",
    "    \"df_repeat_trip\": df_repeat_trip,\n",
    "    \"df_fact_trips\": df_fact_trips,\n",
    "    \"df_target_new_passengers\": df_target_new_passengers,\n",
    "    \"df_month_target_trips\": df_month_target_trips,\n",
    "    \"df_fact_passenger_summary\": df_fact_passenger_summary,\n",
    "}\n",
    "\n",
    "import time\n",
    "\n",
    "def check_null_and_empty(df, name):\n",
    "    try:\n",
    "        start_time = time.time()\n",
    "        print(f\"\\n--- Checking null/empty for DataFrame: {name} ---\")\n",
    "        \n",
    "        if df is None:\n",
    "            print(f\"\\u274C {name} is not initialized!\")\n",
    "            return\n",
    "\n",
    "        if df.rdd.isEmpty():\n",
    "            print(f\"\\u274C {name} is empty!\")\n",
    "            return\n",
    "\n",
    "        null_counts_row = df.select([\n",
    "            F.count(F.when(F.col(c).isNull() | (F.col(c) == \"\"), c)).alias(c)\n",
    "            for c in df.columns\n",
    "        ]).collect()[0]\n",
    "\n",
    "        null_counts = null_counts_row.asDict()\n",
    "        has_issues = False\n",
    "\n",
    "        for col, count in null_counts.items():\n",
    "            if count > 0:\n",
    "                has_issues = True\n",
    "                print(f\"  \\u274C Column `{col}` has {count} null/empty values.\")\n",
    "            else:\n",
    "                print(f\"  \\u2705 Column `{col}` has no null/empty values.\")\n",
    "\n",
    "        if not has_issues:\n",
    "            print(f\"✔️ All columns in {name} are clean!\")\n",
    "\n",
    "        end_time = time.time()\n",
    "        print(f\"--- Completed checking {name} in {end_time - start_time:.2f} seconds ---\")\n",
    "    except Exception as e:\n",
    "        print(f\"⚠️ Error while checking {name}: {e}\")\n",
    "\n",
    "\n",
    "for name, df in dataframes.items():\n",
    "    check_null_and_empty(df, name)\n"
   ]
  },
  {
   "cell_type": "markdown",
   "metadata": {},
   "source": [
    "### CHECKING FOR SCHEMA OF EACH TABLE ###"
   ]
  },
  {
   "cell_type": "code",
   "execution_count": 7,
   "metadata": {},
   "outputs": [
    {
     "name": "stdout",
     "output_type": "stream",
     "text": [
      "Schema for df_city:\n",
      "root\n",
      " |-- city_id: string (nullable = true)\n",
      " |-- city_name: string (nullable = true)\n",
      "\n",
      "--------------------------------------------------\n",
      "Schema for df_date:\n",
      "root\n",
      " |-- date: date (nullable = true)\n",
      " |-- start_of_month: date (nullable = true)\n",
      " |-- month_name: string (nullable = true)\n",
      " |-- day_type: string (nullable = true)\n",
      "\n",
      "--------------------------------------------------\n",
      "Schema for df_ratings:\n",
      "root\n",
      " |-- city_id: string (nullable = true)\n",
      " |-- target_avg_passenger_rating: double (nullable = true)\n",
      "\n",
      "--------------------------------------------------\n",
      "Schema for df_repeat_trip:\n",
      "root\n",
      " |-- month: date (nullable = true)\n",
      " |-- city_id: string (nullable = true)\n",
      " |-- trip_count: string (nullable = true)\n",
      " |-- repeat_passenger_count: integer (nullable = true)\n",
      "\n",
      "--------------------------------------------------\n",
      "Schema for df_fact_trips:\n",
      "root\n",
      " |-- trip_id: string (nullable = true)\n",
      " |-- date: date (nullable = true)\n",
      " |-- city_id: string (nullable = true)\n",
      " |-- passenger_type: string (nullable = true)\n",
      " |-- distance_travelled: integer (nullable = true)\n",
      " |-- fare_amount: integer (nullable = true)\n",
      " |-- passenger_rating: integer (nullable = true)\n",
      " |-- driver_rating: integer (nullable = true)\n",
      "\n",
      "--------------------------------------------------\n",
      "Schema for df_target_new_passengers:\n",
      "root\n",
      " |-- month: date (nullable = true)\n",
      " |-- city_id: string (nullable = true)\n",
      " |-- target_new_passengers: integer (nullable = true)\n",
      "\n",
      "--------------------------------------------------\n",
      "Schema for df_month_target_trips:\n",
      "root\n",
      " |-- date: date (nullable = true)\n",
      " |-- city_id: string (nullable = true)\n",
      " |-- total_target_trips: integer (nullable = true)\n",
      " |-- month_name: string (nullable = true)\n",
      "\n",
      "--------------------------------------------------\n",
      "Schema for df_fact_passenger_summary:\n",
      "root\n",
      " |-- month: date (nullable = true)\n",
      " |-- city_id: string (nullable = true)\n",
      " |-- new_passengers: integer (nullable = true)\n",
      " |-- repeat_passengers: integer (nullable = true)\n",
      " |-- total_passengers: integer (nullable = true)\n",
      "\n",
      "--------------------------------------------------\n"
     ]
    }
   ],
   "source": [
    "dataframes = {\n",
    "    \"df_city\": df_city,\n",
    "    \"df_date\": df_date,\n",
    "    \"df_ratings\": df_ratings,\n",
    "    \"df_repeat_trip\": df_repeat_trip,\n",
    "    \"df_fact_trips\": df_fact_trips,\n",
    "    \"df_target_new_passengers\": df_target_new_passengers,\n",
    "    \"df_month_target_trips\": df_month_target_trips,\n",
    "    \"df_fact_passenger_summary\": df_fact_passenger_summary,\n",
    "}\n",
    "\n",
    "def printingschema(dataframes):\n",
    "\n",
    "    for name, df in dataframes.items():\n",
    "        print(f\"Schema for {name}:\")\n",
    "        df.printSchema()\n",
    "        print(\"-\"*50)\n",
    "\n",
    "printingschema(dataframes)"
   ]
  },
  {
   "cell_type": "markdown",
   "metadata": {},
   "source": [
    "## ADHOC BUSINESS REQUESTS ##"
   ]
  },
  {
   "cell_type": "code",
   "execution_count": 8,
   "metadata": {},
   "outputs": [
    {
     "name": "stderr",
     "output_type": "stream",
     "text": [
      "                                                                                \r"
     ]
    },
    {
     "name": "stdout",
     "output_type": "stream",
     "text": [
      "+-------------+-----------+---------------+-----------------+-----------------------------+\n",
      "|    city_name|total_trips|Avg_fare_per_km|Avg_fare_per_trip|Percentage_contribution_trips|\n",
      "+-------------+-----------+---------------+-----------------+-----------------------------+\n",
      "|       Jaipur|      76888|          16.25|           483.92|                        18.05|\n",
      "|      Lucknow|      64299|          12.14|           147.18|                        15.10|\n",
      "|        Surat|      54843|          10.92|           117.27|                        12.88|\n",
      "|        Kochi|      50702|          14.13|           335.25|                        11.90|\n",
      "|       Indore|      42456|          11.07|           179.84|                         9.97|\n",
      "|   Chandigarh|      38981|          12.18|           283.69|                         9.15|\n",
      "|     Vadodara|      32026|          10.54|           118.57|                         7.52|\n",
      "|Visakhapatnam|      28366|           12.7|           282.67|                         6.66|\n",
      "|   Coimbatore|      21104|           11.3|           166.98|                         4.96|\n",
      "|       Mysore|      16238|           15.4|           249.71|                         3.81|\n",
      "+-------------+-----------+---------------+-----------------+-----------------------------+\n",
      "\n"
     ]
    },
    {
     "name": "stderr",
     "output_type": "stream",
     "text": [
      "                                                                                \r"
     ]
    },
    {
     "data": {
      "image/png": "[encoded data removed]",
      "text/plain": [
       "<Figure size 1000x400 with 1 Axes>"
      ]
     },
     "metadata": {},
     "output_type": "display_data"
    }
   ],
   "source": [
    "\"\"\" 1. City-level Fare and Trip Summary Report \"\"\"\n",
    "\n",
    "fact_trips_repartitioned = df_fact_trips.repartition(\"city_id\")  # Partition by city_id for better distribution\n",
    "fact_trips_repartitioned.createOrReplaceTempView(\"fact_trips_repartitioned\")\n",
    "\n",
    "# Cache the DataFrame for improved performance\n",
    "fact_trips_repartitioned.cache()\n",
    "\n",
    "# Running the query\n",
    "Trip_summary_report = spark.sql(\"\"\"\n",
    "\n",
    "WITH TotalTrips AS (\n",
    "    SELECT COUNT(t.trip_id) AS total_trips\n",
    "    FROM fact_trips_repartitioned t\n",
    ")\n",
    "\n",
    "SELECT \n",
    "    c.city_name, \n",
    "    COUNT(t.trip_id) AS total_trips,\n",
    "    ROUND(AVG(t.fare_amount / t.distance_travelled), 2) AS Avg_fare_per_km,\n",
    "    ROUND(AVG(t.fare_amount), 2) AS Avg_fare_per_trip,\n",
    "    ROUND(COUNT(t.trip_id) * 100.0 / (SELECT total_trips FROM TotalTrips), 2) AS Percentage_contribution_trips\n",
    "FROM dim_city c \n",
    "JOIN fact_trips_repartitioned t\n",
    "ON c.city_id = t.city_id\n",
    "WHERE t.distance_travelled > 0  -- Avoiding division by zero\n",
    "GROUP BY c.city_name\n",
    "ORDER BY total_trips DESC                            \n",
    "                           \n",
    "\"\"\")\n",
    "\n",
    "# Showing the results\n",
    "Trip_summary_report.show()\n",
    "\n",
    "import matplotlib.pyplot as plt\n",
    "import seaborn as sns\n",
    "import pandas as pd\n",
    "\n",
    "df_trip_summary_report = Trip_summary_report.toPandas()\n",
    "plt.figure(figsize=(10,4))\n",
    "\n",
    "Chart = sns.barplot(\n",
    "    data = df_trip_summary_report,\n",
    "    x= \"city_name\",\n",
    "    y= \"Percentage_contribution_trips\",\n",
    "    palette=\"viridis\"\n",
    ")\n",
    "\n",
    "plt.title(\"Trip Contribution by Cities\", fontsize = 10)\n",
    "plt.xlabel(\"CityName\", fontsize = 12)\n",
    "plt.ylabel(\"PercentageContribution\", fontsize = 10)\n",
    "plt.xticks(rotation=45, ha='right')\n",
    "plt.show()\n"
   ]
  },
  {
   "cell_type": "code",
   "execution_count": 9,
   "metadata": {},
   "outputs": [
    {
     "name": "stderr",
     "output_type": "stream",
     "text": [
      "[Stage 82:=============================>                            (3 + 3) / 6]\r"
     ]
    },
    {
     "name": "stdout",
     "output_type": "stream",
     "text": [
      "+----------+--------+------------+------------+-----------------+------------------+\n",
      "|  cityname|   month|Actual_trips|Target_trips|Peformance_Status|Percent_Difference|\n",
      "+----------+--------+------------+------------+-----------------+------------------+\n",
      "|Chandigarh|   April|        5566|        6000|     Below_Target|             -7.23|\n",
      "|Chandigarh|February|        7387|        7000|     Above_Target|              5.53|\n",
      "|Chandigarh| January|        6810|        7000|     Below_Target|             -2.71|\n",
      "|Chandigarh|    June|        6029|        6000|     Above_Target|              0.48|\n",
      "|Chandigarh|   March|        6569|        7000|     Below_Target|             -6.16|\n",
      "|Chandigarh|     May|        6620|        6000|     Above_Target|             10.33|\n",
      "|Coimbatore|   April|        3661|        3500|     Above_Target|              4.60|\n",
      "|Coimbatore|February|        3404|        3500|     Below_Target|             -2.74|\n",
      "|Coimbatore| January|        3651|        3500|     Above_Target|              4.31|\n",
      "|Coimbatore|    June|        3158|        3500|     Below_Target|             -9.77|\n",
      "|Coimbatore|   March|        3680|        3500|     Above_Target|              5.14|\n",
      "|Coimbatore|     May|        3550|        3500|     Above_Target|              1.43|\n",
      "|    Indore|   April|        7415|        7500|     Below_Target|             -1.13|\n",
      "|    Indore|February|        7210|        7000|     Above_Target|              3.00|\n",
      "|    Indore| January|        6737|        7000|     Below_Target|             -3.76|\n",
      "|    Indore|    June|        6288|        7500|     Below_Target|            -16.16|\n",
      "|    Indore|   March|        7019|        7000|     Above_Target|              0.27|\n",
      "|    Indore|     May|        7787|        7500|     Above_Target|              3.83|\n",
      "|    Jaipur|   April|       11406|        9500|     Above_Target|             20.06|\n",
      "|    Jaipur|February|       15872|       13000|     Above_Target|             22.09|\n",
      "+----------+--------+------------+------------+-----------------+------------------+\n",
      "only showing top 20 rows\n",
      "\n"
     ]
    },
    {
     "name": "stderr",
     "output_type": "stream",
     "text": [
      "                                                                                \r"
     ]
    }
   ],
   "source": [
    "\"\"\" 2. Monthly City-level Trips Target Performance Report\"\"\"\n",
    "\n",
    "Month_city_level_trips = spark.sql (\"\"\" \n",
    "                                    \n",
    "With AggregatedData as (\n",
    "\n",
    "SELECT \n",
    "    c.city_name as cityname, \n",
    "    t.month_name as month, \n",
    "    COUNT(tt.trip_id) AS Actual_trips, \n",
    "    COALESCE(SUM( DISTINCT t.total_target_trips), 0) AS Target_trips\n",
    "FROM \n",
    "    dim_city c \n",
    "JOIN \n",
    "    fact_trips tt ON c.city_id = tt.city_id\n",
    "JOIN \n",
    "    target_trips t ON c.city_id = t.city_id AND date_format(tt.date, 'MMMM') = t.month_name\n",
    "GROUP BY \n",
    "    c.city_name, t.month_name\n",
    "ORDER BY \n",
    "    t.month_name\n",
    "                                    \n",
    ")\n",
    "                                    \n",
    "SELECT d.cityname, d.month, d.Actual_trips, d.Target_trips,\n",
    "       CASE\n",
    "            WHEN d.Actual_trips > d.Target_trips THEN \"Above_Target\"\n",
    "            ELSE \"Below_Target\"\n",
    "       END as Peformance_Status, ROUND(((d.Actual_trips - d.Target_trips)*100.0/ d.Target_trips),2) as Percent_Difference\n",
    "FROM AggregatedData d\n",
    "ORDER BY d.cityname, d.month\n",
    "                                    \n",
    "\"\"\")\n",
    "\n",
    "Month_city_level_trips.show()"
   ]
  },
  {
   "cell_type": "code",
   "execution_count": 10,
   "metadata": {},
   "outputs": [
    {
     "name": "stdout",
     "output_type": "stream",
     "text": [
      "+-------------+-----------------------+-----------+-----------+-----------+-----------+-----------+-----------+-----------+-----------+------------+\n",
      "|    city_name|total_repeat_passengers|2-Trips (%)|3-Trips (%)|4-Trips (%)|5-Trips (%)|6-Trips (%)|7-Trips (%)|8-Trips (%)|9-Trips (%)|10-Trips (%)|\n",
      "+-------------+-----------------------+-----------+-----------+-----------+-----------+-----------+-----------+-----------+-----------+------------+\n",
      "|   Chandigarh|                   5070|      32.31|      19.25|      15.74|      12.21|       7.42|       5.48|       3.47|       2.33|        1.79|\n",
      "|   Coimbatore|                   2551|      11.21|      14.82|      15.56|      20.62|      17.64|      10.47|       6.15|       2.31|        1.22|\n",
      "|       Indore|                   7216|      34.34|      22.69|      13.40|      10.34|       6.85|       5.24|       3.26|       2.38|        1.51|\n",
      "|       Jaipur|                   9682|      50.14|      20.73|      12.12|       6.29|       4.13|       2.52|       1.90|       1.20|        0.97|\n",
      "|        Kochi|                   7626|      47.67|      24.35|      11.81|       6.48|       3.91|       2.11|       1.65|       1.21|        0.81|\n",
      "|      Lucknow|                   9597|       9.66|      14.77|      16.20|      18.42|      20.18|      11.33|       6.43|       1.91|        1.10|\n",
      "|       Mysore|                   1477|      48.75|      24.44|      12.73|       5.82|       4.06|       1.76|       1.42|       0.54|        0.47|\n",
      "|        Surat|                   8638|       9.76|      14.26|      16.55|      19.75|      18.45|      11.89|       6.24|       1.74|        1.35|\n",
      "|     Vadodara|                   4346|       9.87|      14.17|      16.52|      18.06|      19.08|      12.86|       5.78|       2.05|        1.61|\n",
      "|Visakhapatnam|                   5108|      51.25|      24.96|       9.98|       5.44|       3.19|       1.98|       1.39|       0.88|        0.92|\n",
      "+-------------+-----------------------+-----------+-----------+-----------+-----------+-----------+-----------+-----------+-----------+------------+\n",
      "\n"
     ]
    }
   ],
   "source": [
    "\"\"\" 3. City-level Repeat Passenger Trip Frequency Report \"\"\"\n",
    "\n",
    "Repeat_passenger_report = spark.sql(\"\"\"\n",
    "    SELECT \n",
    "        c.city_name,\n",
    "        -- Calculating the total repeat passengers for each city\n",
    "        SUM(r.repeat_passenger_count) AS total_repeat_passengers,\n",
    "        \n",
    "        -- Calculate percentage for each trip count\n",
    "        ROUND(SUM(CASE WHEN r.trip_count = '2-Trips' THEN r.repeat_passenger_count ELSE 0 END) * 100.0 / \n",
    "              SUM(r.repeat_passenger_count), 2) AS `2-Trips (%)`,\n",
    "        ROUND(SUM(CASE WHEN r.trip_count = '3-Trips' THEN r.repeat_passenger_count ELSE 0 END) * 100.0 / \n",
    "              SUM(r.repeat_passenger_count), 2) AS `3-Trips (%)`,\n",
    "        ROUND(SUM(CASE WHEN r.trip_count = '4-Trips' THEN r.repeat_passenger_count ELSE 0 END) * 100.0 / \n",
    "              SUM(r.repeat_passenger_count), 2) AS `4-Trips (%)`,\n",
    "        ROUND(SUM(CASE WHEN r.trip_count = '5-Trips' THEN r.repeat_passenger_count ELSE 0 END) * 100.0 / \n",
    "              SUM(r.repeat_passenger_count), 2) AS `5-Trips (%)`,\n",
    "        ROUND(SUM(CASE WHEN r.trip_count = '6-Trips' THEN r.repeat_passenger_count ELSE 0 END) * 100.0 / \n",
    "              SUM(r.repeat_passenger_count), 2) AS `6-Trips (%)`,\n",
    "        ROUND(SUM(CASE WHEN r.trip_count = '7-Trips' THEN r.repeat_passenger_count ELSE 0 END) * 100.0 / \n",
    "              SUM(r.repeat_passenger_count), 2) AS `7-Trips (%)`,\n",
    "        ROUND(SUM(CASE WHEN r.trip_count = '8-Trips' THEN r.repeat_passenger_count ELSE 0 END) * 100.0 / \n",
    "              SUM(r.repeat_passenger_count), 2) AS `8-Trips (%)`,\n",
    "        ROUND(SUM(CASE WHEN r.trip_count = '9-Trips' THEN r.repeat_passenger_count ELSE 0 END) * 100.0 / \n",
    "              SUM(r.repeat_passenger_count), 2) AS `9-Trips (%)`,\n",
    "        ROUND(SUM(CASE WHEN r.trip_count = '10-Trips' THEN r.repeat_passenger_count ELSE 0 END) * 100.0 / \n",
    "              SUM(r.repeat_passenger_count), 2) AS `10-Trips (%)`\n",
    "    FROM \n",
    "        dim_city c\n",
    "    JOIN \n",
    "        dim_repeat_trip r\n",
    "    ON \n",
    "        c.city_id = r.city_id\n",
    "    GROUP BY \n",
    "        c.city_name\n",
    "    ORDER BY \n",
    "        c.city_name\n",
    "\"\"\")\n",
    "\n",
    "# Displaying the report\n",
    "Repeat_passenger_report.show()\n"
   ]
  },
  {
   "cell_type": "code",
   "execution_count": 11,
   "metadata": {},
   "outputs": [
    {
     "name": "stdout",
     "output_type": "stream",
     "text": [
      "+----------+--------------------+--------+\n",
      "|  CityName|Total_new_passengers|Category|\n",
      "+----------+--------------------+--------+\n",
      "|    Jaipur|               45856|   Top 3|\n",
      "|     Kochi|               26416|   Top 3|\n",
      "|Chandigarh|               18908|   Top 3|\n",
      "|     Surat|               11626|Bottom 3|\n",
      "|  Vadodara|               10127|Bottom 3|\n",
      "|Coimbatore|                8514|Bottom 3|\n",
      "+----------+--------------------+--------+\n",
      "\n"
     ]
    }
   ],
   "source": [
    "\"\"\" 4. Identifying Cities with Lowest and Highest Total New Passengers\"\"\"\n",
    "\n",
    "spark.sparkContext.setLogLevel(\"ERROR\")\n",
    "\n",
    "new_total_passengers = spark.sql (\"\"\" \n",
    "                                  \n",
    "WITH RankedCities AS (\n",
    "\n",
    "SELECT c.city_name as CityName, SUM(ps.new_passengers) as Total_new_passengers,\n",
    "        RANK() OVER(ORDER BY SUM(ps.new_passengers) DESC) AS rank_high,\n",
    "        RANK() OVER(ORDER BY SUM(ps.new_passengers)) AS rank_low\n",
    "        FROM dim_city c JOIN fact_passenger_summary ps\n",
    "        ON c.city_id = ps.city_id\n",
    "        GROUP BY c.city_name\n",
    "),\n",
    "\n",
    " TopBottomCities AS (\n",
    "\n",
    "SELECT CityName, Total_new_passengers,\n",
    "       CASE \n",
    "        WHEN rank_high<=3 THEN 'Top 3'\n",
    "        WHEN rank_low<=3 THEN 'Bottom 3'\n",
    "        ELSE Null\n",
    "       END AS Category\n",
    "    FROM RankedCities\n",
    ")   \n",
    "                           \n",
    "SELECT CityName, Total_new_passengers, Category FROM TopBottomCities\n",
    "       WHERE Category IS NOT NUll\n",
    "       ORDER BY Total_new_passengers DESC\n",
    "                                  \n",
    " \"\"\")\n",
    "\n",
    "new_total_passengers.show()\n"
   ]
  },
  {
   "cell_type": "code",
   "execution_count": 12,
   "metadata": {},
   "outputs": [],
   "source": [
    "df_fact_trips = df_fact_trips.withColumn(\"month\", date_format('date', 'MMMM'))\n",
    "\n",
    "df_fact_trips.createOrReplaceTempView(\"fact_trips\")"
   ]
  },
  {
   "cell_type": "code",
   "execution_count": 13,
   "metadata": {},
   "outputs": [
    {
     "name": "stderr",
     "output_type": "stream",
     "text": [
      "[Stage 100:=========>                                               (1 + 5) / 6]\r"
     ]
    },
    {
     "name": "stdout",
     "output_type": "stream",
     "text": [
      "+-------------+--------+--------------+------+---------------+\n",
      "|     CityName|   Month|HighestRevenue|In_Mil|Percentage_Cont|\n",
      "+-------------+--------+--------------+------+---------------+\n",
      "|       Jaipur|February|       7747202|  7.75|           7.16|\n",
      "|        Kochi|     May|       3333746|  3.33|           3.08|\n",
      "|   Chandigarh|February|       2108290|  2.11|           1.95|\n",
      "|      Lucknow|February|       1777269|  1.78|           1.64|\n",
      "|Visakhapatnam|   April|       1390682|  1.39|           1.29|\n",
      "|       Indore|     May|       1380996|  1.38|           1.28|\n",
      "|        Surat|   April|       1154909|  1.15|           1.07|\n",
      "|       Mysore|     May|        745170|  0.75|           0.69|\n",
      "|     Vadodara|   April|        706250|  0.71|           0.65|\n",
      "|   Coimbatore|   April|        612431|  0.61|           0.57|\n",
      "+-------------+--------+--------------+------+---------------+\n",
      "\n"
     ]
    },
    {
     "name": "stderr",
     "output_type": "stream",
     "text": [
      "                                                                                \r"
     ]
    }
   ],
   "source": [
    "\"\"\" 5. Month with Highest Revenue for Each City\"\"\"\n",
    "\n",
    "highest_revenue_citywise = spark.sql(\"\"\" \n",
    "\n",
    "WITH RevenueTable AS (                                                                                                            \n",
    "  SELECT c.city_name as CityName, SUM(t.fare_amount) as HighestRevenue,\n",
    "        DENSE_RANK() OVER(PARTITION BY c.city_name ORDER BY SUM(t.fare_amount) DESC) AS Rank,\n",
    "        t.month as Month\n",
    "        FROM dim_city c JOIN fact_trips t\n",
    "        ON c.city_id = t.city_id\n",
    "        GROUP BY c.city_name, t.month\n",
    "        ORDER BY c.city_name ASC\n",
    "),\n",
    "                                \n",
    "    TotalRevenue AS (\n",
    "        SELECT SUM(fare_amount) as Total_Revenue FROM fact_trips                                                                                                             \n",
    ")\n",
    "                                     \n",
    "SELECT CityName, Month, HighestRevenue,\n",
    "       ROUND((HighestRevenue / 1000000),2) as In_Mil,\n",
    "       ROUND((HighestRevenue/(SELECT Total_Revenue FROM TotalRevenue)*100), 2) as Percentage_Cont\n",
    "       FROM RevenueTable\n",
    "       WHERE Rank = 1\n",
    "       ORDER BY Percentage_Cont DESC \n",
    "                                                                                                           \n",
    "  \"\"\")\n",
    "\n",
    "highest_revenue_citywise.show()"
   ]
  },
  {
   "cell_type": "code",
   "execution_count": 20,
   "metadata": {},
   "outputs": [],
   "source": [
    "df_fact_passenger_summary = df_fact_passenger_summary.withColumn(\"monthname\", date_format('month','MMMM'))\n",
    "\n",
    "df_fact_passenger_summary.createOrReplaceTempView(\"fact_passenger_summary\")"
   ]
  },
  {
   "cell_type": "code",
   "execution_count": 44,
   "metadata": {},
   "outputs": [
    {
     "name": "stdout",
     "output_type": "stream",
     "text": [
      "+----------+--------+---------------------------+\n",
      "|  CityName|   Month|MonthlyRepeatPassengersCont|\n",
      "+----------+--------+---------------------------+\n",
      "|Chandigarh|   April|                      24.02|\n",
      "|Chandigarh|February|                      17.21|\n",
      "|Chandigarh| January|                      15.52|\n",
      "|Chandigarh|    June|                       26.3|\n",
      "|Chandigarh|   March|                      21.27|\n",
      "|Chandigarh|     May|                       26.2|\n",
      "|Coimbatore|   April|                      27.87|\n",
      "|Coimbatore|February|                      17.36|\n",
      "|Coimbatore| January|                      17.71|\n",
      "|Coimbatore|    June|                      24.69|\n",
      "|Coimbatore|   March|                      21.73|\n",
      "|Coimbatore|     May|                      32.66|\n",
      "|    Indore|   April|                      35.52|\n",
      "|    Indore|February|                      27.71|\n",
      "|    Indore| January|                      26.65|\n",
      "|    Indore|    June|                      35.88|\n",
      "|    Indore|   March|                      28.46|\n",
      "|    Indore|     May|                      43.53|\n",
      "|    Jaipur|   April|                       22.1|\n",
      "|    Jaipur|February|                      13.34|\n",
      "+----------+--------+---------------------------+\n",
      "only showing top 20 rows\n",
      "\n",
      "+-------------+------------------------+\n",
      "|     CityName|CityRepeatPassengersCont|\n",
      "+-------------+------------------------+\n",
      "|   Chandigarh|                   21.14|\n",
      "|   Coimbatore|                   23.05|\n",
      "|       Indore|                   32.68|\n",
      "|       Jaipur|                   17.43|\n",
      "|        Kochi|                    22.4|\n",
      "|      Lucknow|                   37.12|\n",
      "|       Mysore|                   11.23|\n",
      "|        Surat|                   42.63|\n",
      "|     Vadodara|                   30.03|\n",
      "|Visakhapatnam|                   28.61|\n",
      "+-------------+------------------------+\n",
      "\n"
     ]
    }
   ],
   "source": [
    "\"\"\" 6. Repeat Passenger Rate Analysis (Monthly and City-wise) \"\"\"\n",
    "\n",
    "passenger_rate_analysis_monthly = spark.sql(\"\"\"\n",
    "                                            \n",
    "WITH Passengers AS (\n",
    " SELECT c.city_name as CityName, ps.monthname as Month, SUM(ps.total_passengers) as TotalPassengers,\n",
    "                    SUM(repeat_passengers) as RepeatPassengers\n",
    "                    FROM dim_city c JOIN fact_passenger_summary ps\n",
    "                    ON c.city_id = ps.city_id\n",
    "                    GROUP BY c.city_name, ps.monthname                                                                                                                                                                                                                      \n",
    ")                                            \n",
    "SELECT p.CityName, p.Month,\n",
    "       ROUND((p.RepeatPassengers*100/p.TotalPassengers),2) AS MonthlyRepeatPassengersCont\n",
    "       FROM Passengers p\n",
    "       ORDER BY p.CityName, p.Month\n",
    "                                            \n",
    "                              \n",
    "  \"\"\")\n",
    "\n",
    "passenger_rate_analysis_monthly.show()\n",
    "\n",
    "\n",
    "passenger_rate_analysis_citywise = spark.sql(\"\"\" \n",
    "\n",
    "                                            \n",
    "WITH CitywisePassengers AS (\n",
    "SELECT c.city_name as CityName, SUM(ps.total_passengers) as TotalCityPassengers,\n",
    "                    SUM(repeat_passengers) as TotalCityRepeatPassengers\n",
    "                    FROM dim_city c JOIN fact_passenger_summary ps\n",
    "                    ON c.city_id = ps.city_id\n",
    "                    GROUP BY c.city_name                                                                                                                                   \n",
    ")                                            \n",
    "SELECT cwp.CityName,\n",
    "       ROUND((cwp.TotalCityRepeatPassengers*100/cwp.TotalCityPassengers),2) AS CityRepeatPassengersCont\n",
    "       FROM CitywisePassengers cwp\n",
    "       ORDER BY cwp.CityName\n",
    "\n",
    " \"\"\")\n",
    "\n",
    "passenger_rate_analysis_citywise.show()\n"
   ]
  },
  {
   "cell_type": "code",
   "execution_count": null,
   "metadata": {},
   "outputs": [],
   "source": []
  }
 ],
 "metadata": {
  "kernelspec": {
   "display_name": "Python 3",
   "language": "python",
   "name": "python3"
  },
  "language_info": {
   "codemirror_mode": {
    "name": "ipython",
    "version": 3
   },
   "file_extension": ".py",
   "mimetype": "text/x-python",
   "name": "python",
   "nbconvert_exporter": "python",
   "pygments_lexer": "ipython3",
   "version": "3.12.4"
  }
 },
 "nbformat": 4,
 "nbformat_minor": 2
}
